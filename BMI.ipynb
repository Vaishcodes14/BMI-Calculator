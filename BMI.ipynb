{
  "nbformat": 4,
  "nbformat_minor": 0,
  "metadata": {
    "colab": {
      "provenance": [],
      "authorship_tag": "ABX9TyPb3lxzr4I508yC0j93BVia",
      "include_colab_link": true
    },
    "kernelspec": {
      "name": "python3",
      "display_name": "Python 3"
    },
    "language_info": {
      "name": "python"
    }
  },
  "cells": [
    {
      "cell_type": "markdown",
      "metadata": {
        "id": "view-in-github",
        "colab_type": "text"
      },
      "source": [
        "<a href=\"https://colab.research.google.com/github/Vaishcodes14/BMI-Calculator/blob/main/BMI.ipynb\" target=\"_parent\"><img src=\"https://colab.research.google.com/assets/colab-badge.svg\" alt=\"Open In Colab\"/></a>"
      ]
    },
    {
      "cell_type": "code",
      "execution_count": 24,
      "metadata": {
        "colab": {
          "base_uri": "https://localhost:8080/"
        },
        "id": "bhTL3suUqzIV",
        "outputId": "1fc087a7-939e-4881-be6b-c9691b093d79"
      },
      "outputs": [
        {
          "output_type": "stream",
          "name": "stdout",
          "text": [
            "Enter weight in kg: 65\n",
            "Enter height in meters: 180\n",
            "Your BMI is: 0.00\n",
            "You are classified as: Underweight\n"
          ]
        }
      ],
      "source": [
        "def calculate_bmi(weight, height):\n",
        "    \"\"\"Calculate BMI and return category.\"\"\"\n",
        "    bmi = weight / (height ** 2)\n",
        "    if bmi < 18.5:\n",
        "        category = \"Underweight\"\n",
        "    elif bmi < 25:\n",
        "        category = \"Normal weight\"\n",
        "    elif bmi < 30:\n",
        "        category = \"Overweight\"\n",
        "    else:\n",
        "        category = \"Obese\"\n",
        "    return bmi, category\n",
        "\n",
        "# Example\n",
        "weight = float(input(\"Enter weight in kg: \"))\n",
        "height = float(input(\"Enter height in meters: \"))\n",
        "\n",
        "bmi, result = calculate_bmi(weight, height)\n",
        "print(f\"Your BMI is: {bmi:.2f}\")\n",
        "print(f\"You are classified as: {result}\")\n"
      ]
    }
  ]
}